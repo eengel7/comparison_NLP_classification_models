{
 "cells": [
  {
   "cell_type": "code",
   "execution_count": null,
   "metadata": {},
   "outputs": [],
   "source": [
    "from google.colab import drive\n",
    "drive.mount('/content/drive')\n",
    "#! git clone https://github.com/eengel7/comparison_NLP_classification_models.git"
   ]
  },
  {
   "cell_type": "code",
   "execution_count": null,
   "metadata": {},
   "outputs": [],
   "source": [
    "%cd drive/MyDrive/comparison_NLP_classification_models"
   ]
  },
  {
   "cell_type": "code",
   "execution_count": null,
   "metadata": {},
   "outputs": [],
   "source": [
    "! pip install sklearn joblib"
   ]
  },
  {
   "cell_type": "code",
   "execution_count": 2,
   "metadata": {},
   "outputs": [],
   "source": [
    "\n",
    "from sklearn.multioutput import ClassifierChain\n",
    "from sklearn.linear_model import LogisticRegression\n",
    "import pickle\n",
    "from sklearn.model_selection import GridSearchCV\n",
    "from sklearn.pipeline import Pipeline\n",
    "import joblib \n",
    "\n",
    "from sklearn.metrics import make_scorer, f1_score, label_ranking_average_precision_score\n",
    "import wandb\n",
    "import scipy.sparse as sp\n",
    "from src.preprocessing.get_preprocessed_data import get_preprocessed_data"
   ]
  },
  {
   "cell_type": "code",
   "execution_count": 3,
   "metadata": {},
   "outputs": [
    {
     "name": "stdout",
     "output_type": "stream",
     "text": [
      "preprocessed_data.pkl already exists at data/preprocessed/logistic_regression_en_all_levels_val_42.\n",
      "Data already exists and will not be overwritten.\n"
     ]
    }
   ],
   "source": [
    "X_train, X_test, X_val, Y_train, Y_test, Y_val = get_preprocessed_data('logistic_regression', overwrite_data= False, random_seed= 42)        \n"
   ]
  },
  {
   "cell_type": "code",
   "execution_count": 4,
   "metadata": {},
   "outputs": [
    {
     "name": "stderr",
     "output_type": "stream",
     "text": [
      "Failed to detect the name of this notebook, you can set it manually with the WANDB_NOTEBOOK_NAME environment variable to enable code saving.\n",
      "\u001b[34m\u001b[1mwandb\u001b[0m: Currently logged in as: \u001b[33meengel7\u001b[0m. Use \u001b[1m`wandb login --relogin`\u001b[0m to force relogin\n"
     ]
    },
    {
     "data": {
      "text/html": [
       "wandb version 0.15.3 is available!  To upgrade, please run:\n",
       " $ pip install wandb --upgrade"
      ],
      "text/plain": [
       "<IPython.core.display.HTML object>"
      ]
     },
     "metadata": {},
     "output_type": "display_data"
    },
    {
     "data": {
      "text/html": [
       "Tracking run with wandb version 0.14.0"
      ],
      "text/plain": [
       "<IPython.core.display.HTML object>"
      ]
     },
     "metadata": {},
     "output_type": "display_data"
    },
    {
     "data": {
      "text/html": [
       "Run data is saved locally in <code>/Users/evaengel/comparison_NLP_classification_models/wandb/run-20230524_101548-gihio3p4</code>"
      ],
      "text/plain": [
       "<IPython.core.display.HTML object>"
      ]
     },
     "metadata": {},
     "output_type": "display_data"
    },
    {
     "data": {
      "text/html": [
       "Syncing run <strong><a href='https://wandb.ai/eengel7/multi-label-logistic_regression/runs/gihio3p4' target=\"_blank\">logistic_regression_42</a></strong> to <a href='https://wandb.ai/eengel7/multi-label-logistic_regression' target=\"_blank\">Weights & Biases</a> (<a href='https://wandb.me/run' target=\"_blank\">docs</a>)<br/>"
      ],
      "text/plain": [
       "<IPython.core.display.HTML object>"
      ]
     },
     "metadata": {},
     "output_type": "display_data"
    },
    {
     "data": {
      "text/html": [
       " View project at <a href='https://wandb.ai/eengel7/multi-label-logistic_regression' target=\"_blank\">https://wandb.ai/eengel7/multi-label-logistic_regression</a>"
      ],
      "text/plain": [
       "<IPython.core.display.HTML object>"
      ]
     },
     "metadata": {},
     "output_type": "display_data"
    },
    {
     "data": {
      "text/html": [
       " View run at <a href='https://wandb.ai/eengel7/multi-label-logistic_regression/runs/gihio3p4' target=\"_blank\">https://wandb.ai/eengel7/multi-label-logistic_regression/runs/gihio3p4</a>"
      ],
      "text/plain": [
       "<IPython.core.display.HTML object>"
      ]
     },
     "metadata": {},
     "output_type": "display_data"
    }
   ],
   "source": [
    "wandb.login()\n",
    "model_name = 'logistic_regression'\n",
    "random_seed = 42 \n",
    "\n",
    "\n",
    "name_run = f'{model_name}_{random_seed}'\n",
    "wandb_project = f'multi-label-{model_name}'\n",
    "wandb_kwargs = {\"name\": name_run}\n",
    "# Initialize wandb\n",
    "run = wandb.init(project=wandb_project, name = name_run)"
   ]
  },
  {
   "cell_type": "code",
   "execution_count": 5,
   "metadata": {},
   "outputs": [
    {
     "ename": "",
     "evalue": "",
     "output_type": "error",
     "traceback": [
      "\u001b[1;31mCanceled future for execute_request message before replies were done"
     ]
    },
    {
     "ename": "",
     "evalue": "",
     "output_type": "error",
     "traceback": [
      "\u001b[1;31mThe Kernel crashed while executing code in the the current cell or a previous cell. Please review the code in the cell(s) to identify a possible cause of the failure. Click <a href='https://aka.ms/vscodeJupyterKernelCrash'>here</a> for more info. View Jupyter <a href='command:jupyter.viewOutput'>log</a> for further details."
     ]
    }
   ],
   "source": [
    "# Define logistic regression model\n",
    "base_lr = LogisticRegression(solver='liblinear', random_state = random_seed, max_iter=1000)\n",
    "# Define ClassifierChain for multi-label task \n",
    "clf = ClassifierChain(base_lr, verbose=True)\n",
    "\n",
    "\n",
    "# Set up hyperparameter grid for tuning\n",
    "param_grid = {\n",
    "    'base_estimator__C': [0.01],\n",
    "    #'penalty': ['l1', 'l2','elasticnet']\n",
    "}\n",
    "\n",
    "scorer = make_scorer(f1_score, average='samples')\n",
    "# Set up grid search with cross-validation\n",
    "\n",
    "grid_search = GridSearchCV(clf, param_grid, cv=[(X_val.toarray(), Y_val)], scoring=scorer)\n",
    "grid_search.fit(X_train.toarray(), Y_train)"
   ]
  },
  {
   "cell_type": "code",
   "execution_count": null,
   "metadata": {},
   "outputs": [],
   "source": [
    "# Retrieve the best hyperparameters and best model\n",
    "best_params = grid_search.best_params_\n",
    "best_model = grid_search.best_estimator_"
   ]
  },
  {
   "cell_type": "code",
   "execution_count": null,
   "metadata": {},
   "outputs": [],
   "source": [
    "# Retrieve the best hyperparameters and best model\n",
    "best_params = grid_search.best_params_\n",
    "best_model = grid_search.best_estimator_\n",
    "\n",
    "# Evaluate the best model on the test set\n",
    "y_pred_test = best_model.predict(X_test)\n",
    "accuracy_test = accuracy_score(y_test, y_pred_test)\n",
    "print(\"Test Accuracy:\", accuracy_test)\n",
    "\n",
    "# Log the validation performance of each run during grid search using wandb\n",
    "results = grid_search.cv_results_\n",
    "for mean_score, params in zip(results[\"mean_test_score\"], results[\"params\"]):\n",
    "    wandb.log({\"Validation Accuracy\": mean_score, \"Params\": params})\n",
    "    print(\"Validation Accuracy: {:.4f} with params {}\".format(mean_score, params))\n",
    "\n",
    "# Log the test accuracy using wandb\n",
    "wandb.log({\"Test Accuracy\": accuracy_test})\n",
    "\n",
    "# Finish the wandb run\n",
    "wandb.finish()"
   ]
  },
  {
   "cell_type": "code",
   "execution_count": null,
   "metadata": {},
   "outputs": [],
   "source": [
    "# Log to wandb\n",
    "\n",
    "# log the data as an artifact\n",
    "data_artifact = wandb.Artifact(\"data\", \"dataset\")\n",
    "data_artifact.add_file(f\"data/preprocessed/logistic_regression_en_all_levels_val_{random_seed}/preprocessed_data.pkl\")\n",
    "run.log_artifact(data_artifact)\n",
    "\n",
    "\n",
    "# log the data config as an artifact\n",
    "config_artifact = wandb.Artifact(\"config\", type=\"config\")\n",
    "config_artifact.add_file(f\"data/preprocessed/logistic_regression_en_all_levels_val_{random_seed}/data_args.json\")\n",
    "run.log_artifact(config_artifact)\n",
    "\n",
    "# log evaluation metrics\n",
    "f1_score_avg = f1_score(Y_test, predictions, average='samples', zero_division=0)\n",
    "label_ranking_score = label_ranking_average_precision_score(Y_test, predictions)\n",
    "f1_score_avg = f1_score(Y_test, predictions, average='samples', zero_division=0) \n",
    "f1_score_macro = f1_score(Y_test, predictions, average='macro', zero_division=0)\n",
    "f1_score_micro = f1_score(Y_test, predictions, average='micro', zero_division=0)\n",
    "run.log({\"test_LRAP\": label_ranking_score, \"test_f1_score_avg\": f1_score_avg, \"test_f1_score_macro\": f1_score_macro, \"test_f1_score_micro\": f1_score_micro})\n",
    "\n",
    "    # finish logging the data logging run\n",
    "run.finish()"
   ]
  },
  {
   "cell_type": "code",
   "execution_count": null,
   "metadata": {},
   "outputs": [],
   "source": []
  },
  {
   "cell_type": "code",
   "execution_count": null,
   "metadata": {},
   "outputs": [],
   "source": []
  },
  {
   "cell_type": "code",
   "execution_count": null,
   "metadata": {},
   "outputs": [],
   "source": [
    "# Define logistic regression model\n",
    "base_lr = LogisticRegression(solver='sag', random_state = 42, max_iter=1000, penalty = 'l2')\n",
    "# Define ClassifierChain for multi-label task \n",
    "clf = ClassifierChain(base_lr, verbose=True)\n",
    "\n",
    "# Set up pipeline with vectorizer and classifier\n",
    "pipeline = Pipeline([\n",
    "    ('clf', clf)\n",
    "])\n",
    "\n",
    "# Set up hyperparameter grid for tuning\n",
    "param_grid = {\n",
    "    'clf__base_estimator__C': [0.001, 0.01, 0.1, 1, 10],\n",
    "}\n",
    "\n",
    "# Set up grid search with cross-validation\n",
    "grid_search = GridSearchCV(pipeline, param_grid, cv=5, n_jobs=-1, scoring='f1_micro')\n",
    "\n",
    "# grid_search.fit(X_train, Y_train)\n",
    "clf.fit(X_train, Y_train)\n",
    "\n",
    "# Save the best model locally\n",
    "best_model = grid_search.best_estimator_\n",
    "joblib.dump(best_model, 'best_model.joblib')\n",
    "\n",
    "predictions = best_model.predict(X_test)\n",
    "joblib.dump(predictions, 'predictions.joblib')"
   ]
  }
 ],
 "metadata": {
  "kernelspec": {
   "display_name": ".venv",
   "language": "python",
   "name": "python3"
  },
  "language_info": {
   "codemirror_mode": {
    "name": "ipython",
    "version": 3
   },
   "file_extension": ".py",
   "mimetype": "text/x-python",
   "name": "python",
   "nbconvert_exporter": "python",
   "pygments_lexer": "ipython3",
   "version": "3.9.6"
  },
  "orig_nbformat": 4,
  "vscode": {
   "interpreter": {
    "hash": "9883284e4809f9dc439720b7be050568a57fcaf846432ff7264a79bbda205b99"
   }
  }
 },
 "nbformat": 4,
 "nbformat_minor": 2
}
