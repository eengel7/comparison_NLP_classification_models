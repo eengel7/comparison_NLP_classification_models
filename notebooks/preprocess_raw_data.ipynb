{
 "cells": [
  {
   "attachments": {},
   "cell_type": "markdown",
   "metadata": {},
   "source": [
    "# Preprocessing\n",
    "\n",
    "1. Load data and SCB classifications to assign one final classification for each doc. Appraoches for now:\n",
    "    - Get finest level\n",
    "    - Define which level of classification is used\n",
    "2. Normalise text\n"
   ]
  },
  {
   "attachments": {},
   "cell_type": "markdown",
   "metadata": {},
   "source": [
    "### Imports"
   ]
  },
  {
   "cell_type": "code",
   "execution_count": 82,
   "metadata": {},
   "outputs": [
    {
     "name": "stderr",
     "output_type": "stream",
     "text": [
      "[nltk_data] Downloading package stopwords to\n",
      "[nltk_data]     /Users/evaengel/nltk_data...\n",
      "[nltk_data]   Package stopwords is already up-to-date!\n"
     ]
    },
    {
     "data": {
      "text/plain": [
       "True"
      ]
     },
     "execution_count": 82,
     "metadata": {},
     "output_type": "execute_result"
    }
   ],
   "source": [
    "import pandas as pd\n",
    "import numpy as np\n",
    "\n",
    "#NLTK\n",
    "import nltk\n",
    "from nltk.tokenize import RegexpTokenizer\n",
    "from nltk.corpus import stopwords\n",
    "from nltk.stem.snowball import SnowballStemmer\n",
    "import matplotlib\n",
    "\n",
    "nltk.download('stopwords')\n"
   ]
  },
  {
   "attachments": {},
   "cell_type": "markdown",
   "metadata": {},
   "source": [
    "### Load SBC classifications"
   ]
  },
  {
   "cell_type": "code",
   "execution_count": 48,
   "metadata": {},
   "outputs": [],
   "source": [
    "# Load SCB classifications & Preprocess\n",
    "classifications = pd.read_excel('../data/SCB_classifications_raw.xlsx',  index_col=0)\n",
    "\n",
    "# Lower and remove whitespace characters at the left and right ends\n",
    "classifications = classifications.apply(lambda x: x.str.strip().str.lower())\n",
    "\n",
    "# classifications.to_excel('../data/SCB_classifications.xlsx')  "
   ]
  },
  {
   "cell_type": "code",
   "execution_count": 49,
   "metadata": {},
   "outputs": [],
   "source": [
    "# classifications = pd.read_excel('../data/SCB_classifications.xlsx',  index_col=0)"
   ]
  },
  {
   "cell_type": "code",
   "execution_count": 50,
   "metadata": {},
   "outputs": [
    {
     "data": {
      "text/html": [
       "<div>\n",
       "<style scoped>\n",
       "    .dataframe tbody tr th:only-of-type {\n",
       "        vertical-align: middle;\n",
       "    }\n",
       "\n",
       "    .dataframe tbody tr th {\n",
       "        vertical-align: top;\n",
       "    }\n",
       "\n",
       "    .dataframe thead th {\n",
       "        text-align: right;\n",
       "    }\n",
       "</style>\n",
       "<table border=\"1\" class=\"dataframe\">\n",
       "  <thead>\n",
       "    <tr style=\"text-align: right;\">\n",
       "      <th></th>\n",
       "      <th>Label Sv</th>\n",
       "      <th>Label En</th>\n",
       "    </tr>\n",
       "  </thead>\n",
       "  <tbody>\n",
       "    <tr>\n",
       "      <th>1</th>\n",
       "      <td>naturvetenskap</td>\n",
       "      <td>natural sciences</td>\n",
       "    </tr>\n",
       "    <tr>\n",
       "      <th>101</th>\n",
       "      <td>matematik</td>\n",
       "      <td>mathematics</td>\n",
       "    </tr>\n",
       "    <tr>\n",
       "      <th>10101</th>\n",
       "      <td>matematisk analys</td>\n",
       "      <td>mathematical analysis</td>\n",
       "    </tr>\n",
       "    <tr>\n",
       "      <th>10102</th>\n",
       "      <td>geometri</td>\n",
       "      <td>geometry</td>\n",
       "    </tr>\n",
       "    <tr>\n",
       "      <th>10103</th>\n",
       "      <td>algebra och logik</td>\n",
       "      <td>algebra and logic</td>\n",
       "    </tr>\n",
       "    <tr>\n",
       "      <th>...</th>\n",
       "      <td>...</td>\n",
       "      <td>...</td>\n",
       "    </tr>\n",
       "    <tr>\n",
       "      <th>605</th>\n",
       "      <td>annan humaniora</td>\n",
       "      <td>other humanities</td>\n",
       "    </tr>\n",
       "    <tr>\n",
       "      <th>60501</th>\n",
       "      <td>antikvetenskap</td>\n",
       "      <td>classical archaeology and ancient history</td>\n",
       "    </tr>\n",
       "    <tr>\n",
       "      <th>60502</th>\n",
       "      <td>kulturstudier</td>\n",
       "      <td>cultural studies</td>\n",
       "    </tr>\n",
       "    <tr>\n",
       "      <th>60503</th>\n",
       "      <td>etnologi</td>\n",
       "      <td>ethnology</td>\n",
       "    </tr>\n",
       "    <tr>\n",
       "      <th>60599</th>\n",
       "      <td>övrig annan humaniora</td>\n",
       "      <td>other humanities not elsewhere specified</td>\n",
       "    </tr>\n",
       "  </tbody>\n",
       "</table>\n",
       "<p>308 rows × 2 columns</p>\n",
       "</div>"
      ],
      "text/plain": [
       "                    Label Sv                                   Label En\n",
       "1             naturvetenskap                           natural sciences\n",
       "101                matematik                                mathematics\n",
       "10101      matematisk analys                      mathematical analysis\n",
       "10102               geometri                                   geometry\n",
       "10103      algebra och logik                          algebra and logic\n",
       "...                      ...                                        ...\n",
       "605          annan humaniora                           other humanities\n",
       "60501         antikvetenskap  classical archaeology and ancient history\n",
       "60502          kulturstudier                           cultural studies\n",
       "60503               etnologi                                  ethnology\n",
       "60599  övrig annan humaniora   other humanities not elsewhere specified\n",
       "\n",
       "[308 rows x 2 columns]"
      ]
     },
     "execution_count": 50,
     "metadata": {},
     "output_type": "execute_result"
    }
   ],
   "source": [
    "classifications"
   ]
  },
  {
   "attachments": {},
   "cell_type": "markdown",
   "metadata": {},
   "source": [
    "### Load data"
   ]
  },
  {
   "cell_type": "code",
   "execution_count": 62,
   "metadata": {},
   "outputs": [
    {
     "name": "stderr",
     "output_type": "stream",
     "text": [
      "/Users/evaengel/comparison_NLP_classification_models/.venv/lib/python3.11/site-packages/openpyxl/styles/stylesheet.py:226: UserWarning: Workbook contains no default style, apply openpyxl's default\n",
      "  warn(\"Workbook contains no default style, apply openpyxl's default\")\n"
     ]
    },
    {
     "name": "stdout",
     "output_type": "stream",
     "text": [
      "(7343, 13)\n"
     ]
    },
    {
     "data": {
      "text/html": [
       "<div>\n",
       "<style scoped>\n",
       "    .dataframe tbody tr th:only-of-type {\n",
       "        vertical-align: middle;\n",
       "    }\n",
       "\n",
       "    .dataframe tbody tr th {\n",
       "        vertical-align: top;\n",
       "    }\n",
       "\n",
       "    .dataframe thead th {\n",
       "        text-align: right;\n",
       "    }\n",
       "</style>\n",
       "<table border=\"1\" class=\"dataframe\">\n",
       "  <thead>\n",
       "    <tr style=\"text-align: right;\">\n",
       "      <th></th>\n",
       "      <th>Project ID</th>\n",
       "      <th>Title Sv</th>\n",
       "      <th>Title En</th>\n",
       "      <th>Description</th>\n",
       "      <th>Description En</th>\n",
       "      <th>Open Date</th>\n",
       "      <th>Close Date</th>\n",
       "      <th>Budget of Project</th>\n",
       "      <th>Research fields</th>\n",
       "      <th>Financier</th>\n",
       "      <th>Receive org</th>\n",
       "      <th>Project leader</th>\n",
       "      <th>Project url</th>\n",
       "    </tr>\n",
       "  </thead>\n",
       "  <tbody>\n",
       "    <tr>\n",
       "      <th>0</th>\n",
       "      <td>1</td>\n",
       "      <td>Judith Jack Halberstam, Columbia University, N...</td>\n",
       "      <td>Judith Jack Halberstam, Columbia University, N...</td>\n",
       "      <td>NaN</td>\n",
       "      <td>Jack Halberstam (Legal name Judith, legal gend...</td>\n",
       "      <td>2022-01-01T23:59:59Z</td>\n",
       "      <td>2022-12-31T23:59:59Z</td>\n",
       "      <td>1695027</td>\n",
       "      <td>social sciences , Humanities and the Arts , So...</td>\n",
       "      <td>Swedish Research Council</td>\n",
       "      <td>Lund University</td>\n",
       "      <td>Esteban Arboix, Jens Rydström, Stig Wall, Jens...</td>\n",
       "      <td>https://www.ymner.com/sv/funded-projects/judit...</td>\n",
       "    </tr>\n",
       "  </tbody>\n",
       "</table>\n",
       "</div>"
      ],
      "text/plain": [
       "   Project ID                                           Title Sv  \\\n",
       "0           1  Judith Jack Halberstam, Columbia University, N...   \n",
       "\n",
       "                                            Title En Description  \\\n",
       "0  Judith Jack Halberstam, Columbia University, N...         NaN   \n",
       "\n",
       "                                      Description En             Open Date  \\\n",
       "0  Jack Halberstam (Legal name Judith, legal gend...  2022-01-01T23:59:59Z   \n",
       "\n",
       "             Close Date  Budget of Project  \\\n",
       "0  2022-12-31T23:59:59Z            1695027   \n",
       "\n",
       "                                     Research fields  \\\n",
       "0  social sciences , Humanities and the Arts , So...   \n",
       "\n",
       "                  Financier      Receive org  \\\n",
       "0  Swedish Research Council  Lund University   \n",
       "\n",
       "                                      Project leader  \\\n",
       "0  Esteban Arboix, Jens Rydström, Stig Wall, Jens...   \n",
       "\n",
       "                                         Project url  \n",
       "0  https://www.ymner.com/sv/funded-projects/judit...  "
      ]
     },
     "execution_count": 62,
     "metadata": {},
     "output_type": "execute_result"
    }
   ],
   "source": [
    "# Load  data\n",
    "data = pd.read_excel('../data/Finansierade projekt.xlsx')\n",
    "\n",
    "\n",
    "# Output first five rows\n",
    "print(data.shape)\n",
    "data.head(1)"
   ]
  },
  {
   "cell_type": "code",
   "execution_count": 63,
   "metadata": {},
   "outputs": [],
   "source": [
    "data = data[['Title En','Description En','Research fields']]\n",
    "\n",
    "data = data[data['Research fields'].notna()] \n",
    "data = data[data['Research fields'] != 'Unclassified']\n",
    "\n",
    "# For now delete missing english text\n",
    "data = data[data['Description En'].notna()] \n",
    "\n",
    "data = data[data['Title En'].notna()] "
   ]
  },
  {
   "attachments": {},
   "cell_type": "markdown",
   "metadata": {},
   "source": [
    "# Get unique classification"
   ]
  },
  {
   "cell_type": "code",
   "execution_count": 64,
   "metadata": {},
   "outputs": [],
   "source": [
    "def get_classification_id(data_classifications: str):\n",
    "    \n",
    "    research_fields = data_classifications.split(', ')   #TODO: need to take care of single classifications that contain comma\n",
    "\n",
    "    research_fields = list({x.lower().strip() for x in research_fields if x})\n",
    "\n",
    "    research_mapping = dict()\n",
    "\n",
    "    for field in research_fields:\n",
    "        classification_id = classifications.index[classifications['Label En'] == field][0]\n",
    "        research_mapping[classification_id] = field\n",
    "\n",
    "    return research_mapping"
   ]
  },
  {
   "cell_type": "code",
   "execution_count": 65,
   "metadata": {},
   "outputs": [],
   "source": [
    "def get_classification_for_specific_level(data_classification: str, nof_digits = 1):\n",
    "    research_mapping = get_classification_id(data_classification)\n",
    "    # Choose one value from the classification level of nof_digits digits\n",
    "    for key, value in research_mapping.items():\n",
    "        if len(str(key)) == nof_digits:\n",
    "            return value\n",
    "        else:\n",
    "            print(f\"No matching classification found for {data_classification}.\")"
   ]
  },
  {
   "cell_type": "code",
   "execution_count": 66,
   "metadata": {},
   "outputs": [
    {
     "data": {
      "text/plain": [
       "'social sciences'"
      ]
     },
     "execution_count": 66,
     "metadata": {},
     "output_type": "execute_result"
    }
   ],
   "source": [
    "get_classification_for_specific_level(nof_digits = 1, data_classification = data['Research fields'][0])"
   ]
  },
  {
   "cell_type": "code",
   "execution_count": 67,
   "metadata": {},
   "outputs": [],
   "source": [
    "data['Research fields'] = data['Research fields'].apply(lambda x: get_classification_for_specific_level(x))"
   ]
  },
  {
   "cell_type": "code",
   "execution_count": 68,
   "metadata": {},
   "outputs": [
    {
     "data": {
      "text/plain": [
       "0                   social sciences\n",
       "1                  natural sciences\n",
       "2        engineering and technology\n",
       "3           humanities and the arts\n",
       "4        engineering and technology\n",
       "                   ...             \n",
       "7337    medical and health sciences\n",
       "7338                social sciences\n",
       "7339                social sciences\n",
       "7340        humanities and the arts\n",
       "7341        humanities and the arts\n",
       "Name: Research fields, Length: 7143, dtype: object"
      ]
     },
     "execution_count": 68,
     "metadata": {},
     "output_type": "execute_result"
    }
   ],
   "source": [
    "data['Research fields']"
   ]
  },
  {
   "cell_type": "code",
   "execution_count": 71,
   "metadata": {},
   "outputs": [
    {
     "data": {
      "text/html": [
       "<div>\n",
       "<style scoped>\n",
       "    .dataframe tbody tr th:only-of-type {\n",
       "        vertical-align: middle;\n",
       "    }\n",
       "\n",
       "    .dataframe tbody tr th {\n",
       "        vertical-align: top;\n",
       "    }\n",
       "\n",
       "    .dataframe thead th {\n",
       "        text-align: right;\n",
       "    }\n",
       "</style>\n",
       "<table border=\"1\" class=\"dataframe\">\n",
       "  <thead>\n",
       "    <tr style=\"text-align: right;\">\n",
       "      <th></th>\n",
       "      <th>Title En</th>\n",
       "      <th>Description En</th>\n",
       "      <th>Research fields</th>\n",
       "    </tr>\n",
       "  </thead>\n",
       "  <tbody>\n",
       "    <tr>\n",
       "      <th>0</th>\n",
       "      <td>Judith Jack Halberstam, Columbia University, N...</td>\n",
       "      <td>Jack Halberstam (Legal name Judith, legal gend...</td>\n",
       "      <td>social sciences</td>\n",
       "    </tr>\n",
       "    <tr>\n",
       "      <th>1</th>\n",
       "      <td>Nomination of Professor Martin Shepperd, Brune...</td>\n",
       "      <td>Professor Martin John Shepperd, PhD,  Dept. of...</td>\n",
       "      <td>natural sciences</td>\n",
       "    </tr>\n",
       "    <tr>\n",
       "      <th>2</th>\n",
       "      <td>Characterisation and effects of micro and nano...</td>\n",
       "      <td>Starting with the recent development of new ex...</td>\n",
       "      <td>engineering and technology</td>\n",
       "    </tr>\n",
       "    <tr>\n",
       "      <th>3</th>\n",
       "      <td>Moral Vagueness in a Mind-Independent World</td>\n",
       "      <td>The main objective of the project is to show t...</td>\n",
       "      <td>humanities and the arts</td>\n",
       "    </tr>\n",
       "    <tr>\n",
       "      <th>4</th>\n",
       "      <td>Bearbetning av organosolvfraktioner för funkti...</td>\n",
       "      <td>The global demand for renewable, degradable an...</td>\n",
       "      <td>engineering and technology</td>\n",
       "    </tr>\n",
       "    <tr>\n",
       "      <th>...</th>\n",
       "      <td>...</td>\n",
       "      <td>...</td>\n",
       "      <td>...</td>\n",
       "    </tr>\n",
       "    <tr>\n",
       "      <th>7337</th>\n",
       "      <td>Spatial Omics Enable Improved Pathophysiology-...</td>\n",
       "      <td>We propose an innovative interdisciplinary res...</td>\n",
       "      <td>medical and health sciences</td>\n",
       "    </tr>\n",
       "    <tr>\n",
       "      <th>7338</th>\n",
       "      <td>A New Interdisciplinary Framework for Studying...</td>\n",
       "      <td>The program aims to establish a bold interdisc...</td>\n",
       "      <td>social sciences</td>\n",
       "    </tr>\n",
       "    <tr>\n",
       "      <th>7339</th>\n",
       "      <td>SweDigArch – The Swedish National Infrastructu...</td>\n",
       "      <td>SweDigArch will construct and run the Swedish ...</td>\n",
       "      <td>social sciences</td>\n",
       "    </tr>\n",
       "    <tr>\n",
       "      <th>7340</th>\n",
       "      <td>Design after progress: reimagining design hist...</td>\n",
       "      <td>Design’s ties to industrialisation and progres...</td>\n",
       "      <td>humanities and the arts</td>\n",
       "    </tr>\n",
       "    <tr>\n",
       "      <th>7341</th>\n",
       "      <td>Imaginaries of Value: Articulating, dis-articu...</td>\n",
       "      <td>This research environment investigates imagina...</td>\n",
       "      <td>humanities and the arts</td>\n",
       "    </tr>\n",
       "  </tbody>\n",
       "</table>\n",
       "<p>7143 rows × 3 columns</p>\n",
       "</div>"
      ],
      "text/plain": [
       "                                               Title En  \\\n",
       "0     Judith Jack Halberstam, Columbia University, N...   \n",
       "1     Nomination of Professor Martin Shepperd, Brune...   \n",
       "2     Characterisation and effects of micro and nano...   \n",
       "3           Moral Vagueness in a Mind-Independent World   \n",
       "4     Bearbetning av organosolvfraktioner för funkti...   \n",
       "...                                                 ...   \n",
       "7337  Spatial Omics Enable Improved Pathophysiology-...   \n",
       "7338  A New Interdisciplinary Framework for Studying...   \n",
       "7339  SweDigArch – The Swedish National Infrastructu...   \n",
       "7340  Design after progress: reimagining design hist...   \n",
       "7341  Imaginaries of Value: Articulating, dis-articu...   \n",
       "\n",
       "                                         Description En  \\\n",
       "0     Jack Halberstam (Legal name Judith, legal gend...   \n",
       "1     Professor Martin John Shepperd, PhD,  Dept. of...   \n",
       "2     Starting with the recent development of new ex...   \n",
       "3     The main objective of the project is to show t...   \n",
       "4     The global demand for renewable, degradable an...   \n",
       "...                                                 ...   \n",
       "7337  We propose an innovative interdisciplinary res...   \n",
       "7338  The program aims to establish a bold interdisc...   \n",
       "7339  SweDigArch will construct and run the Swedish ...   \n",
       "7340  Design’s ties to industrialisation and progres...   \n",
       "7341  This research environment investigates imagina...   \n",
       "\n",
       "                  Research fields  \n",
       "0                 social sciences  \n",
       "1                natural sciences  \n",
       "2      engineering and technology  \n",
       "3         humanities and the arts  \n",
       "4      engineering and technology  \n",
       "...                           ...  \n",
       "7337  medical and health sciences  \n",
       "7338              social sciences  \n",
       "7339              social sciences  \n",
       "7340      humanities and the arts  \n",
       "7341      humanities and the arts  \n",
       "\n",
       "[7143 rows x 3 columns]"
      ]
     },
     "execution_count": 71,
     "metadata": {},
     "output_type": "execute_result"
    }
   ],
   "source": [
    "data"
   ]
  },
  {
   "cell_type": "code",
   "execution_count": 70,
   "metadata": {},
   "outputs": [],
   "source": [
    "data['Description En'] = data['Description En'].apply(lambda x: x.replace('Purpose and goal: ','' ))"
   ]
  },
  {
   "attachments": {},
   "cell_type": "markdown",
   "metadata": {},
   "source": [
    "# Preprocess data\n",
    "\n",
    "1)RegexpTokenizer - This helps us to filter our data .Since we don't want our text to have html tags and punctuation marks .\n",
    "\n",
    "2)Stop Words - Some words like 'the','a','not' are very frequent in our language.\n",
    "\n",
    "3)Stemming - In order to simplify our text we will use stemming. For examaple running,runs,run after stemmming becomes run.This helps to compress our text .\n"
   ]
  },
  {
   "cell_type": "code",
   "execution_count": 72,
   "metadata": {},
   "outputs": [],
   "source": [
    "tokenizer = RegexpTokenizer(\"[a-zA-Z@]+\") # We only want words in text as punctuation and numbers are not helpful\n",
    "ss = SnowballStemmer(\"english\")\n",
    "\n",
    "stop = stopwords.words('english') "
   ]
  },
  {
   "cell_type": "code",
   "execution_count": 73,
   "metadata": {},
   "outputs": [],
   "source": [
    "def clean_up(sentence):\n",
    "    sentence  = tokenizer.tokenize(sentence) # Conerting in regualr expression\n",
    "    sentence = [ss.stem(w) for w in sentence if w not in stop  ]  # Stemming and removing stop words\n",
    "    \n",
    "    return \" \".join(sentence) # returning the sentence in the form of a string"
   ]
  },
  {
   "cell_type": "code",
   "execution_count": 74,
   "metadata": {},
   "outputs": [
    {
     "data": {
      "text/plain": [
       "'the deleg refus give'"
      ]
     },
     "execution_count": 74,
     "metadata": {},
     "output_type": "execute_result"
    }
   ],
   "source": [
    "clean_up('The delegation refuses to give up.')"
   ]
  },
  {
   "cell_type": "code",
   "execution_count": 75,
   "metadata": {},
   "outputs": [],
   "source": [
    "data[\"Description En\"] = data[\"Description En\"].apply(clean_up)"
   ]
  },
  {
   "cell_type": "code",
   "execution_count": 47,
   "metadata": {},
   "outputs": [
    {
     "data": {
      "text/html": [
       "<div>\n",
       "<style scoped>\n",
       "    .dataframe tbody tr th:only-of-type {\n",
       "        vertical-align: middle;\n",
       "    }\n",
       "\n",
       "    .dataframe tbody tr th {\n",
       "        vertical-align: top;\n",
       "    }\n",
       "\n",
       "    .dataframe thead th {\n",
       "        text-align: right;\n",
       "    }\n",
       "</style>\n",
       "<table border=\"1\" class=\"dataframe\">\n",
       "  <thead>\n",
       "    <tr style=\"text-align: right;\">\n",
       "      <th></th>\n",
       "      <th>Title En</th>\n",
       "      <th>Description En</th>\n",
       "      <th>Research fields</th>\n",
       "    </tr>\n",
       "  </thead>\n",
       "  <tbody>\n",
       "    <tr>\n",
       "      <th>0</th>\n",
       "      <td>Judith Jack Halberstam, Columbia University, N...</td>\n",
       "      <td>jack halberstam legal name judith legal gender...</td>\n",
       "      <td>social sciences</td>\n",
       "    </tr>\n",
       "    <tr>\n",
       "      <th>1</th>\n",
       "      <td>Nomination of Professor Martin Shepperd, Brune...</td>\n",
       "      <td>professor martin john shepperd phd dept comput...</td>\n",
       "      <td>natural sciences</td>\n",
       "    </tr>\n",
       "    <tr>\n",
       "      <th>2</th>\n",
       "      <td>Characterisation and effects of micro and nano...</td>\n",
       "      <td>purpos goal start recent develop new experimen...</td>\n",
       "      <td>engineering and technology</td>\n",
       "    </tr>\n",
       "    <tr>\n",
       "      <th>3</th>\n",
       "      <td>Moral Vagueness in a Mind-Independent World</td>\n",
       "      <td>purpos goal the main object project show centr...</td>\n",
       "      <td>humanities and the arts</td>\n",
       "    </tr>\n",
       "    <tr>\n",
       "      <th>4</th>\n",
       "      <td>Bearbetning av organosolvfraktioner för funkti...</td>\n",
       "      <td>purpos goal the global demand renew degrad sus...</td>\n",
       "      <td>engineering and technology</td>\n",
       "    </tr>\n",
       "    <tr>\n",
       "      <th>...</th>\n",
       "      <td>...</td>\n",
       "      <td>...</td>\n",
       "      <td>...</td>\n",
       "    </tr>\n",
       "    <tr>\n",
       "      <th>7337</th>\n",
       "      <td>Spatial Omics Enable Improved Pathophysiology-...</td>\n",
       "      <td>we propos innov interdisciplinari research env...</td>\n",
       "      <td>medical and health sciences</td>\n",
       "    </tr>\n",
       "    <tr>\n",
       "      <th>7338</th>\n",
       "      <td>A New Interdisciplinary Framework for Studying...</td>\n",
       "      <td>the program aim establish bold interdisciplina...</td>\n",
       "      <td>social sciences</td>\n",
       "    </tr>\n",
       "    <tr>\n",
       "      <th>7339</th>\n",
       "      <td>SweDigArch – The Swedish National Infrastructu...</td>\n",
       "      <td>swedigarch construct run swedish nation infras...</td>\n",
       "      <td>social sciences</td>\n",
       "    </tr>\n",
       "    <tr>\n",
       "      <th>7340</th>\n",
       "      <td>Design after progress: reimagining design hist...</td>\n",
       "      <td>design tie industrialis progress made possibl ...</td>\n",
       "      <td>humanities and the arts</td>\n",
       "    </tr>\n",
       "    <tr>\n",
       "      <th>7341</th>\n",
       "      <td>Imaginaries of Value: Articulating, dis-articu...</td>\n",
       "      <td>this research environ investig imaginari valu ...</td>\n",
       "      <td>humanities and the arts</td>\n",
       "    </tr>\n",
       "  </tbody>\n",
       "</table>\n",
       "<p>7143 rows × 3 columns</p>\n",
       "</div>"
      ],
      "text/plain": [
       "                                               Title En  \\\n",
       "0     Judith Jack Halberstam, Columbia University, N...   \n",
       "1     Nomination of Professor Martin Shepperd, Brune...   \n",
       "2     Characterisation and effects of micro and nano...   \n",
       "3           Moral Vagueness in a Mind-Independent World   \n",
       "4     Bearbetning av organosolvfraktioner för funkti...   \n",
       "...                                                 ...   \n",
       "7337  Spatial Omics Enable Improved Pathophysiology-...   \n",
       "7338  A New Interdisciplinary Framework for Studying...   \n",
       "7339  SweDigArch – The Swedish National Infrastructu...   \n",
       "7340  Design after progress: reimagining design hist...   \n",
       "7341  Imaginaries of Value: Articulating, dis-articu...   \n",
       "\n",
       "                                         Description En  \\\n",
       "0     jack halberstam legal name judith legal gender...   \n",
       "1     professor martin john shepperd phd dept comput...   \n",
       "2     purpos goal start recent develop new experimen...   \n",
       "3     purpos goal the main object project show centr...   \n",
       "4     purpos goal the global demand renew degrad sus...   \n",
       "...                                                 ...   \n",
       "7337  we propos innov interdisciplinari research env...   \n",
       "7338  the program aim establish bold interdisciplina...   \n",
       "7339  swedigarch construct run swedish nation infras...   \n",
       "7340  design tie industrialis progress made possibl ...   \n",
       "7341  this research environ investig imaginari valu ...   \n",
       "\n",
       "                  Research fields  \n",
       "0                 social sciences  \n",
       "1                natural sciences  \n",
       "2      engineering and technology  \n",
       "3         humanities and the arts  \n",
       "4      engineering and technology  \n",
       "...                           ...  \n",
       "7337  medical and health sciences  \n",
       "7338              social sciences  \n",
       "7339              social sciences  \n",
       "7340      humanities and the arts  \n",
       "7341      humanities and the arts  \n",
       "\n",
       "[7143 rows x 3 columns]"
      ]
     },
     "execution_count": 47,
     "metadata": {},
     "output_type": "execute_result"
    }
   ],
   "source": [
    "data"
   ]
  },
  {
   "cell_type": "code",
   "execution_count": 79,
   "metadata": {},
   "outputs": [],
   "source": [
    "data.to_csv('../data/utlysningar_preprocessed_stemming', index=False)\n"
   ]
  },
  {
   "cell_type": "code",
   "execution_count": 83,
   "metadata": {},
   "outputs": [
    {
     "name": "stderr",
     "output_type": "stream",
     "text": [
      "Matplotlib is building the font cache; this may take a moment.\n"
     ]
    },
    {
     "data": {
      "text/plain": [
       "<AxesSubplot: >"
      ]
     },
     "execution_count": 83,
     "metadata": {},
     "output_type": "execute_result"
    },
    {
     "data": {
      "image/png": "[encoded data removed]",
      "text/plain": [
       "<Figure size 640x480 with 1 Axes>"
      ]
     },
     "metadata": {},
     "output_type": "display_data"
    }
   ],
   "source": [
    "data['Research fields'].value_counts().plot(kind='barh')"
   ]
  }
 ],
 "metadata": {
  "kernelspec": {
   "display_name": ".venv",
   "language": "python",
   "name": "python3"
  },
  "language_info": {
   "codemirror_mode": {
    "name": "ipython",
    "version": 3
   },
   "file_extension": ".py",
   "mimetype": "text/x-python",
   "name": "python",
   "nbconvert_exporter": "python",
   "pygments_lexer": "ipython3",
   "version": "3.11.1"
  },
  "orig_nbformat": 4,
  "vscode": {
   "interpreter": {
    "hash": "9883284e4809f9dc439720b7be050568a57fcaf846432ff7264a79bbda205b99"
   }
  }
 },
 "nbformat": 4,
 "nbformat_minor": 2
}
