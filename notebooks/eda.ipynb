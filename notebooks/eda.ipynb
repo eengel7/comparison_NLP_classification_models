{
 "cells": [
  {
   "attachments": {},
   "cell_type": "markdown",
   "metadata": {},
   "source": [
    "# Exploratory Data Analysis"
   ]
  },
  {
   "attachments": {},
   "cell_type": "markdown",
   "metadata": {},
   "source": [
    "### Imports"
   ]
  },
  {
   "cell_type": "code",
   "execution_count": 1,
   "metadata": {},
   "outputs": [],
   "source": [
    "import pandas as pd\n",
    "import numpy as np"
   ]
  },
  {
   "cell_type": "code",
   "execution_count": 2,
   "metadata": {},
   "outputs": [],
   "source": [
    "# Load SCB classifications & Preprocess\n",
    "\n",
    "classifications = pd.read_excel('../data/SCB_classifications_raw.xlsx',  index_col=0)\n",
    "classifications['Label Sv'] = classifications['Label Sv'].str.strip()\n",
    "classifications['Label En'] = classifications['Label En'].str.strip()\n",
    "\n",
    "classifications['Label Sv'] = classifications['Label Sv'].str.lower()\n",
    "classifications['Label En'] = classifications['Label En'].str.lower()"
   ]
  },
  {
   "cell_type": "code",
   "execution_count": 93,
   "metadata": {},
   "outputs": [],
   "source": [
    "classifications.to_excel('../data/SCB_classifications.xlsx')  "
   ]
  },
  {
   "cell_type": "code",
   "execution_count": 3,
   "metadata": {},
   "outputs": [],
   "source": [
    "classifications = pd.read_excel('../data/SCB_classifications.xlsx',  index_col=0)"
   ]
  },
  {
   "cell_type": "code",
   "execution_count": 4,
   "metadata": {},
   "outputs": [
    {
     "data": {
      "text/html": [
       "<div>\n",
       "<style scoped>\n",
       "    .dataframe tbody tr th:only-of-type {\n",
       "        vertical-align: middle;\n",
       "    }\n",
       "\n",
       "    .dataframe tbody tr th {\n",
       "        vertical-align: top;\n",
       "    }\n",
       "\n",
       "    .dataframe thead th {\n",
       "        text-align: right;\n",
       "    }\n",
       "</style>\n",
       "<table border=\"1\" class=\"dataframe\">\n",
       "  <thead>\n",
       "    <tr style=\"text-align: right;\">\n",
       "      <th></th>\n",
       "      <th>Label Sv</th>\n",
       "      <th>Label En</th>\n",
       "    </tr>\n",
       "  </thead>\n",
       "  <tbody>\n",
       "    <tr>\n",
       "      <th>1</th>\n",
       "      <td>naturvetenskap</td>\n",
       "      <td>natural sciences</td>\n",
       "    </tr>\n",
       "    <tr>\n",
       "      <th>101</th>\n",
       "      <td>matematik</td>\n",
       "      <td>mathematics</td>\n",
       "    </tr>\n",
       "    <tr>\n",
       "      <th>10101</th>\n",
       "      <td>matematisk analys</td>\n",
       "      <td>mathematical analysis</td>\n",
       "    </tr>\n",
       "    <tr>\n",
       "      <th>10102</th>\n",
       "      <td>geometri</td>\n",
       "      <td>geometry</td>\n",
       "    </tr>\n",
       "    <tr>\n",
       "      <th>10103</th>\n",
       "      <td>algebra och logik</td>\n",
       "      <td>algebra and logic</td>\n",
       "    </tr>\n",
       "    <tr>\n",
       "      <th>...</th>\n",
       "      <td>...</td>\n",
       "      <td>...</td>\n",
       "    </tr>\n",
       "    <tr>\n",
       "      <th>605</th>\n",
       "      <td>annan humaniora</td>\n",
       "      <td>other humanities</td>\n",
       "    </tr>\n",
       "    <tr>\n",
       "      <th>60501</th>\n",
       "      <td>antikvetenskap</td>\n",
       "      <td>classical archaeology and ancient history</td>\n",
       "    </tr>\n",
       "    <tr>\n",
       "      <th>60502</th>\n",
       "      <td>kulturstudier</td>\n",
       "      <td>cultural studies</td>\n",
       "    </tr>\n",
       "    <tr>\n",
       "      <th>60503</th>\n",
       "      <td>etnologi</td>\n",
       "      <td>ethnology</td>\n",
       "    </tr>\n",
       "    <tr>\n",
       "      <th>60599</th>\n",
       "      <td>övrig annan humaniora</td>\n",
       "      <td>other humanities not elsewhere specified</td>\n",
       "    </tr>\n",
       "  </tbody>\n",
       "</table>\n",
       "<p>308 rows × 2 columns</p>\n",
       "</div>"
      ],
      "text/plain": [
       "                    Label Sv                                   Label En\n",
       "1             naturvetenskap                           natural sciences\n",
       "101                matematik                                mathematics\n",
       "10101      matematisk analys                      mathematical analysis\n",
       "10102               geometri                                   geometry\n",
       "10103      algebra och logik                          algebra and logic\n",
       "...                      ...                                        ...\n",
       "605          annan humaniora                           other humanities\n",
       "60501         antikvetenskap  classical archaeology and ancient history\n",
       "60502          kulturstudier                           cultural studies\n",
       "60503               etnologi                                  ethnology\n",
       "60599  övrig annan humaniora   other humanities not elsewhere specified\n",
       "\n",
       "[308 rows x 2 columns]"
      ]
     },
     "execution_count": 4,
     "metadata": {},
     "output_type": "execute_result"
    }
   ],
   "source": [
    "classifications"
   ]
  },
  {
   "cell_type": "code",
   "execution_count": 5,
   "metadata": {},
   "outputs": [
    {
     "name": "stderr",
     "output_type": "stream",
     "text": [
      "/Users/evaengel/comparison_NLP_classification_models/.venv/lib/python3.11/site-packages/openpyxl/styles/stylesheet.py:226: UserWarning: Workbook contains no default style, apply openpyxl's default\n",
      "  warn(\"Workbook contains no default style, apply openpyxl's default\")\n"
     ]
    },
    {
     "name": "stdout",
     "output_type": "stream",
     "text": [
      "(7343, 13)\n"
     ]
    },
    {
     "data": {
      "text/html": [
       "<div>\n",
       "<style scoped>\n",
       "    .dataframe tbody tr th:only-of-type {\n",
       "        vertical-align: middle;\n",
       "    }\n",
       "\n",
       "    .dataframe tbody tr th {\n",
       "        vertical-align: top;\n",
       "    }\n",
       "\n",
       "    .dataframe thead th {\n",
       "        text-align: right;\n",
       "    }\n",
       "</style>\n",
       "<table border=\"1\" class=\"dataframe\">\n",
       "  <thead>\n",
       "    <tr style=\"text-align: right;\">\n",
       "      <th></th>\n",
       "      <th>Project ID</th>\n",
       "      <th>Title Sv</th>\n",
       "      <th>Title En</th>\n",
       "      <th>Description</th>\n",
       "      <th>Description En</th>\n",
       "      <th>Open Date</th>\n",
       "      <th>Close Date</th>\n",
       "      <th>Budget of Project</th>\n",
       "      <th>Research fields</th>\n",
       "      <th>Financier</th>\n",
       "      <th>Receive org</th>\n",
       "      <th>Project leader</th>\n",
       "      <th>Project url</th>\n",
       "    </tr>\n",
       "  </thead>\n",
       "  <tbody>\n",
       "    <tr>\n",
       "      <th>0</th>\n",
       "      <td>1</td>\n",
       "      <td>Judith Jack Halberstam, Columbia University, N...</td>\n",
       "      <td>Judith Jack Halberstam, Columbia University, N...</td>\n",
       "      <td>NaN</td>\n",
       "      <td>Jack Halberstam (Legal name Judith, legal gend...</td>\n",
       "      <td>2022-01-01T23:59:59Z</td>\n",
       "      <td>2022-12-31T23:59:59Z</td>\n",
       "      <td>1695027</td>\n",
       "      <td>social sciences , Humanities and the Arts , So...</td>\n",
       "      <td>Swedish Research Council</td>\n",
       "      <td>Lund University</td>\n",
       "      <td>Esteban Arboix, Jens Rydström, Stig Wall, Jens...</td>\n",
       "      <td>https://www.ymner.com/sv/funded-projects/judit...</td>\n",
       "    </tr>\n",
       "  </tbody>\n",
       "</table>\n",
       "</div>"
      ],
      "text/plain": [
       "   Project ID                                           Title Sv  \\\n",
       "0           1  Judith Jack Halberstam, Columbia University, N...   \n",
       "\n",
       "                                            Title En Description  \\\n",
       "0  Judith Jack Halberstam, Columbia University, N...         NaN   \n",
       "\n",
       "                                      Description En             Open Date  \\\n",
       "0  Jack Halberstam (Legal name Judith, legal gend...  2022-01-01T23:59:59Z   \n",
       "\n",
       "             Close Date  Budget of Project  \\\n",
       "0  2022-12-31T23:59:59Z            1695027   \n",
       "\n",
       "                                     Research fields  \\\n",
       "0  social sciences , Humanities and the Arts , So...   \n",
       "\n",
       "                  Financier      Receive org  \\\n",
       "0  Swedish Research Council  Lund University   \n",
       "\n",
       "                                      Project leader  \\\n",
       "0  Esteban Arboix, Jens Rydström, Stig Wall, Jens...   \n",
       "\n",
       "                                         Project url  \n",
       "0  https://www.ymner.com/sv/funded-projects/judit...  "
      ]
     },
     "execution_count": 5,
     "metadata": {},
     "output_type": "execute_result"
    }
   ],
   "source": [
    "# Load  data\n",
    "data = pd.read_excel('../data/Finansierade projekt.xlsx')\n",
    "\n",
    "# Output first five rows\n",
    "print(data.shape)\n",
    "data.head(1)"
   ]
  },
  {
   "cell_type": "code",
   "execution_count": 66,
   "metadata": {},
   "outputs": [],
   "source": [
    "data = data[['Title Sv','Title En','Description','Description En','Research fields']]\n"
   ]
  },
  {
   "cell_type": "code",
   "execution_count": null,
   "metadata": {},
   "outputs": [],
   "source": [
    "def preprocess_classification(data_classification: str):\n",
    "    "
   ]
  },
  {
   "cell_type": "code",
   "execution_count": 121,
   "metadata": {},
   "outputs": [],
   "source": [
    "def get_classification_id(data_classification: str):\n",
    "\n",
    "    research_fields = data_classification.split(', ')   #TODO: need to take care of single classifications that contain comma\n",
    "\n",
    "    research_fields = list({x.lower().strip() for x in research_fields})\n",
    "    print(research_fields)\n",
    "    research_mapping = dict()\n",
    "\n",
    "    for field in research_fields:\n",
    "        classification_id = classifications.index[classifications['Label En'] == field][0]\n",
    "        research_mapping[classification_id] = field\n",
    "\n",
    "    finest_classification = research_mapping\n",
    "\n",
    "    return finest_classification"
   ]
  },
  {
   "cell_type": "code",
   "execution_count": 122,
   "metadata": {},
   "outputs": [
    {
     "name": "stdout",
     "output_type": "stream",
     "text": [
      "['humanities and the arts', 'social sciences']\n"
     ]
    },
    {
     "data": {
      "text/plain": [
       "{6: 'humanities and the arts', 5: 'social sciences'}"
      ]
     },
     "execution_count": 122,
     "metadata": {},
     "output_type": "execute_result"
    }
   ],
   "source": [
    "get_classification_id(data_classification = data['Research fields'][0])"
   ]
  },
  {
   "cell_type": "code",
   "execution_count": 123,
   "metadata": {},
   "outputs": [
    {
     "data": {
      "text/plain": [
       "0       social sciences , Humanities and the Arts , So...\n",
       "1                     natural sciences , Natural Sciences\n",
       "2       engineering and technology , Engineering and T...\n",
       "3                                 Humanities and the Arts\n",
       "4       natural sciences , engineering and technology ...\n",
       "                              ...                        \n",
       "7338    natural sciences , social sciences , Natural S...\n",
       "7339    natural sciences , social sciences , Humanitie...\n",
       "7340                              Humanities and the Arts\n",
       "7341                              Humanities and the Arts\n",
       "7342        Natural Sciences , Engineering and Technology\n",
       "Name: Research fields, Length: 7343, dtype: object"
      ]
     },
     "execution_count": 123,
     "metadata": {},
     "output_type": "execute_result"
    }
   ],
   "source": [
    "data['Research fields']"
   ]
  },
  {
   "cell_type": "code",
   "execution_count": 68,
   "metadata": {},
   "outputs": [
    {
     "data": {
      "text/html": [
       "<div>\n",
       "<style scoped>\n",
       "    .dataframe tbody tr th:only-of-type {\n",
       "        vertical-align: middle;\n",
       "    }\n",
       "\n",
       "    .dataframe tbody tr th {\n",
       "        vertical-align: top;\n",
       "    }\n",
       "\n",
       "    .dataframe thead th {\n",
       "        text-align: right;\n",
       "    }\n",
       "</style>\n",
       "<table border=\"1\" class=\"dataframe\">\n",
       "  <thead>\n",
       "    <tr style=\"text-align: right;\">\n",
       "      <th></th>\n",
       "      <th>0</th>\n",
       "      <th>1</th>\n",
       "      <th>2</th>\n",
       "      <th>3</th>\n",
       "      <th>4</th>\n",
       "      <th>5</th>\n",
       "    </tr>\n",
       "  </thead>\n",
       "  <tbody>\n",
       "    <tr>\n",
       "      <th>0</th>\n",
       "      <td>social sciences</td>\n",
       "      <td>Humanities and the Arts</td>\n",
       "      <td>Social Sciences</td>\n",
       "      <td>None</td>\n",
       "      <td>None</td>\n",
       "      <td>None</td>\n",
       "    </tr>\n",
       "    <tr>\n",
       "      <th>1</th>\n",
       "      <td>natural sciences</td>\n",
       "      <td>Natural Sciences</td>\n",
       "      <td>None</td>\n",
       "      <td>None</td>\n",
       "      <td>None</td>\n",
       "      <td>None</td>\n",
       "    </tr>\n",
       "    <tr>\n",
       "      <th>2</th>\n",
       "      <td>engineering and technology</td>\n",
       "      <td>Engineering and Technology</td>\n",
       "      <td>None</td>\n",
       "      <td>None</td>\n",
       "      <td>None</td>\n",
       "      <td>None</td>\n",
       "    </tr>\n",
       "    <tr>\n",
       "      <th>3</th>\n",
       "      <td>Humanities and the Arts</td>\n",
       "      <td>None</td>\n",
       "      <td>None</td>\n",
       "      <td>None</td>\n",
       "      <td>None</td>\n",
       "      <td>None</td>\n",
       "    </tr>\n",
       "    <tr>\n",
       "      <th>4</th>\n",
       "      <td>natural sciences</td>\n",
       "      <td>engineering and technology</td>\n",
       "      <td>Natural Sciences</td>\n",
       "      <td>Engineering and Technology</td>\n",
       "      <td>None</td>\n",
       "      <td>None</td>\n",
       "    </tr>\n",
       "    <tr>\n",
       "      <th>...</th>\n",
       "      <td>...</td>\n",
       "      <td>...</td>\n",
       "      <td>...</td>\n",
       "      <td>...</td>\n",
       "      <td>...</td>\n",
       "      <td>...</td>\n",
       "    </tr>\n",
       "    <tr>\n",
       "      <th>7338</th>\n",
       "      <td>natural sciences</td>\n",
       "      <td>social sciences</td>\n",
       "      <td>Natural Sciences</td>\n",
       "      <td>Social Sciences</td>\n",
       "      <td>None</td>\n",
       "      <td>None</td>\n",
       "    </tr>\n",
       "    <tr>\n",
       "      <th>7339</th>\n",
       "      <td>natural sciences</td>\n",
       "      <td>social sciences</td>\n",
       "      <td>Humanities and the Arts</td>\n",
       "      <td>Natural Sciences</td>\n",
       "      <td>Social Sciences</td>\n",
       "      <td>None</td>\n",
       "    </tr>\n",
       "    <tr>\n",
       "      <th>7340</th>\n",
       "      <td>Humanities and the Arts</td>\n",
       "      <td>None</td>\n",
       "      <td>None</td>\n",
       "      <td>None</td>\n",
       "      <td>None</td>\n",
       "      <td>None</td>\n",
       "    </tr>\n",
       "    <tr>\n",
       "      <th>7341</th>\n",
       "      <td>Humanities and the Arts</td>\n",
       "      <td>None</td>\n",
       "      <td>None</td>\n",
       "      <td>None</td>\n",
       "      <td>None</td>\n",
       "      <td>None</td>\n",
       "    </tr>\n",
       "    <tr>\n",
       "      <th>7342</th>\n",
       "      <td>Natural Sciences</td>\n",
       "      <td>Engineering and Technology</td>\n",
       "      <td>None</td>\n",
       "      <td>None</td>\n",
       "      <td>None</td>\n",
       "      <td>None</td>\n",
       "    </tr>\n",
       "  </tbody>\n",
       "</table>\n",
       "<p>7343 rows × 6 columns</p>\n",
       "</div>"
      ],
      "text/plain": [
       "                                0                            1  \\\n",
       "0                social sciences      Humanities and the Arts    \n",
       "1               natural sciences              Natural Sciences   \n",
       "2     engineering and technology    Engineering and Technology   \n",
       "3         Humanities and the Arts                         None   \n",
       "4               natural sciences   engineering and technology    \n",
       "...                           ...                          ...   \n",
       "7338            natural sciences              social sciences    \n",
       "7339            natural sciences              social sciences    \n",
       "7340      Humanities and the Arts                         None   \n",
       "7341      Humanities and the Arts                         None   \n",
       "7342            Natural Sciences    Engineering and Technology   \n",
       "\n",
       "                             2                           3                4  \\\n",
       "0              Social Sciences                        None             None   \n",
       "1                         None                        None             None   \n",
       "2                         None                        None             None   \n",
       "3                         None                        None             None   \n",
       "4            Natural Sciences   Engineering and Technology             None   \n",
       "...                        ...                         ...              ...   \n",
       "7338         Natural Sciences              Social Sciences             None   \n",
       "7339  Humanities and the Arts            Natural Sciences   Social Sciences   \n",
       "7340                      None                        None             None   \n",
       "7341                      None                        None             None   \n",
       "7342                      None                        None             None   \n",
       "\n",
       "         5  \n",
       "0     None  \n",
       "1     None  \n",
       "2     None  \n",
       "3     None  \n",
       "4     None  \n",
       "...    ...  \n",
       "7338  None  \n",
       "7339  None  \n",
       "7340  None  \n",
       "7341  None  \n",
       "7342  None  \n",
       "\n",
       "[7343 rows x 6 columns]"
      ]
     },
     "execution_count": 68,
     "metadata": {},
     "output_type": "execute_result"
    }
   ],
   "source": [
    "research_fields = data['Research fields'].str.split(', ', expand=True)\n",
    "research_fields"
   ]
  },
  {
   "cell_type": "code",
   "execution_count": null,
   "metadata": {},
   "outputs": [],
   "source": []
  }
 ],
 "metadata": {
  "kernelspec": {
   "display_name": ".venv",
   "language": "python",
   "name": "python3"
  },
  "language_info": {
   "codemirror_mode": {
    "name": "ipython",
    "version": 3
   },
   "file_extension": ".py",
   "mimetype": "text/x-python",
   "name": "python",
   "nbconvert_exporter": "python",
   "pygments_lexer": "ipython3",
   "version": "3.11.1"
  },
  "orig_nbformat": 4,
  "vscode": {
   "interpreter": {
    "hash": "9883284e4809f9dc439720b7be050568a57fcaf846432ff7264a79bbda205b99"
   }
  }
 },
 "nbformat": 4,
 "nbformat_minor": 2
}
