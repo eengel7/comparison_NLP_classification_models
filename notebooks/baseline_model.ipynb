{
 "cells": [
  {
   "attachments": {},
   "cell_type": "markdown",
   "metadata": {},
   "source": [
    "# Baseline model - Logistic Regression"
   ]
  },
  {
   "attachments": {},
   "cell_type": "markdown",
   "metadata": {},
   "source": [
    "## Imports and Load Data"
   ]
  },
  {
   "cell_type": "code",
   "execution_count": 27,
   "metadata": {},
   "outputs": [],
   "source": [
    "\n",
    "import pandas as pd\n",
    "from sklearn.feature_extraction.text import CountVectorizer\n",
    "\n",
    "from sklearn.model_selection import GridSearchCV\n",
    "from scipy.stats import uniform\n",
    "\n",
    "from sklearn.metrics import f1_score, auc, precision_recall_curve, average_precision_score\n",
    "from sklearn.metrics import auc\n",
    "from sklearn.preprocessing import StandardScaler\n",
    "from sklearn.model_selection import train_test_split,TimeSeriesSplit\n",
    "from sklearn.feature_extraction.text import CountVectorizer, TfidfVectorizer\n",
    "\n",
    "\n",
    "from sklearn.model_selection import RandomizedSearchCV\n",
    "from sklearn.linear_model import LogisticRegression\n",
    "from sklearn import metrics\n",
    "\n",
    "from sklearn import preprocessing\n"
   ]
  },
  {
   "cell_type": "code",
   "execution_count": 28,
   "metadata": {},
   "outputs": [],
   "source": [
    "data = pd.read_csv('../data/utlysningar_preprocessed_stemming')"
   ]
  },
  {
   "cell_type": "code",
   "execution_count": 31,
   "metadata": {},
   "outputs": [
    {
     "data": {
      "text/html": [
       "<div>\n",
       "<style scoped>\n",
       "    .dataframe tbody tr th:only-of-type {\n",
       "        vertical-align: middle;\n",
       "    }\n",
       "\n",
       "    .dataframe tbody tr th {\n",
       "        vertical-align: top;\n",
       "    }\n",
       "\n",
       "    .dataframe thead th {\n",
       "        text-align: right;\n",
       "    }\n",
       "</style>\n",
       "<table border=\"1\" class=\"dataframe\">\n",
       "  <thead>\n",
       "    <tr style=\"text-align: right;\">\n",
       "      <th></th>\n",
       "      <th>Title En</th>\n",
       "      <th>Description En</th>\n",
       "      <th>Research fields</th>\n",
       "    </tr>\n",
       "  </thead>\n",
       "  <tbody>\n",
       "    <tr>\n",
       "      <th>0</th>\n",
       "      <td>Judith Jack Halberstam, Columbia University, N...</td>\n",
       "      <td>jack halberstam legal name judith legal gender...</td>\n",
       "      <td>5</td>\n",
       "    </tr>\n",
       "    <tr>\n",
       "      <th>1</th>\n",
       "      <td>Nomination of Professor Martin Shepperd, Brune...</td>\n",
       "      <td>professor martin john shepperd phd dept comput...</td>\n",
       "      <td>4</td>\n",
       "    </tr>\n",
       "    <tr>\n",
       "      <th>2</th>\n",
       "      <td>Characterisation and effects of micro and nano...</td>\n",
       "      <td>start recent develop new experiment techniqu c...</td>\n",
       "      <td>1</td>\n",
       "    </tr>\n",
       "    <tr>\n",
       "      <th>3</th>\n",
       "      <td>Moral Vagueness in a Mind-Independent World</td>\n",
       "      <td>the main object project show central hypothesi...</td>\n",
       "      <td>2</td>\n",
       "    </tr>\n",
       "    <tr>\n",
       "      <th>4</th>\n",
       "      <td>Bearbetning av organosolvfraktioner för funkti...</td>\n",
       "      <td>the global demand renew degrad sustain materi ...</td>\n",
       "      <td>1</td>\n",
       "    </tr>\n",
       "    <tr>\n",
       "      <th>...</th>\n",
       "      <td>...</td>\n",
       "      <td>...</td>\n",
       "      <td>...</td>\n",
       "    </tr>\n",
       "    <tr>\n",
       "      <th>7138</th>\n",
       "      <td>Spatial Omics Enable Improved Pathophysiology-...</td>\n",
       "      <td>we propos innov interdisciplinari research env...</td>\n",
       "      <td>3</td>\n",
       "    </tr>\n",
       "    <tr>\n",
       "      <th>7139</th>\n",
       "      <td>A New Interdisciplinary Framework for Studying...</td>\n",
       "      <td>the program aim establish bold interdisciplina...</td>\n",
       "      <td>5</td>\n",
       "    </tr>\n",
       "    <tr>\n",
       "      <th>7140</th>\n",
       "      <td>SweDigArch – The Swedish National Infrastructu...</td>\n",
       "      <td>swedigarch construct run swedish nation infras...</td>\n",
       "      <td>5</td>\n",
       "    </tr>\n",
       "    <tr>\n",
       "      <th>7141</th>\n",
       "      <td>Design after progress: reimagining design hist...</td>\n",
       "      <td>design tie industrialis progress made possibl ...</td>\n",
       "      <td>2</td>\n",
       "    </tr>\n",
       "    <tr>\n",
       "      <th>7142</th>\n",
       "      <td>Imaginaries of Value: Articulating, dis-articu...</td>\n",
       "      <td>this research environ investig imaginari valu ...</td>\n",
       "      <td>2</td>\n",
       "    </tr>\n",
       "  </tbody>\n",
       "</table>\n",
       "<p>7143 rows × 3 columns</p>\n",
       "</div>"
      ],
      "text/plain": [
       "                                               Title En  \\\n",
       "0     Judith Jack Halberstam, Columbia University, N...   \n",
       "1     Nomination of Professor Martin Shepperd, Brune...   \n",
       "2     Characterisation and effects of micro and nano...   \n",
       "3           Moral Vagueness in a Mind-Independent World   \n",
       "4     Bearbetning av organosolvfraktioner för funkti...   \n",
       "...                                                 ...   \n",
       "7138  Spatial Omics Enable Improved Pathophysiology-...   \n",
       "7139  A New Interdisciplinary Framework for Studying...   \n",
       "7140  SweDigArch – The Swedish National Infrastructu...   \n",
       "7141  Design after progress: reimagining design hist...   \n",
       "7142  Imaginaries of Value: Articulating, dis-articu...   \n",
       "\n",
       "                                         Description En  Research fields  \n",
       "0     jack halberstam legal name judith legal gender...                5  \n",
       "1     professor martin john shepperd phd dept comput...                4  \n",
       "2     start recent develop new experiment techniqu c...                1  \n",
       "3     the main object project show central hypothesi...                2  \n",
       "4     the global demand renew degrad sustain materi ...                1  \n",
       "...                                                 ...              ...  \n",
       "7138  we propos innov interdisciplinari research env...                3  \n",
       "7139  the program aim establish bold interdisciplina...                5  \n",
       "7140  swedigarch construct run swedish nation infras...                5  \n",
       "7141  design tie industrialis progress made possibl ...                2  \n",
       "7142  this research environ investig imaginari valu ...                2  \n",
       "\n",
       "[7143 rows x 3 columns]"
      ]
     },
     "execution_count": 31,
     "metadata": {},
     "output_type": "execute_result"
    }
   ],
   "source": [
    "data"
   ]
  },
  {
   "cell_type": "code",
   "execution_count": 30,
   "metadata": {},
   "outputs": [],
   "source": [
    "# Encode the labels\n",
    "\n",
    "le = preprocessing.LabelEncoder()\n",
    "le.fit(data['Research fields'])\n",
    "data['Research fields'] = le.transform(data['Research fields'])"
   ]
  },
  {
   "cell_type": "code",
   "execution_count": 32,
   "metadata": {},
   "outputs": [],
   "source": [
    "X_train,X_test,Y_train,Y_test = train_test_split(data['Description En'],data['Research fields'],test_size = 0.3,random_state=2)"
   ]
  },
  {
   "attachments": {},
   "cell_type": "markdown",
   "metadata": {},
   "source": [
    "## Feature Extraction & Embedding - Bag of Words"
   ]
  },
  {
   "cell_type": "code",
   "execution_count": 33,
   "metadata": {},
   "outputs": [],
   "source": [
    "count_vect = CountVectorizer(ngram_range=(1,2))\n",
    "\n",
    "X_train_bow = count_vect.fit_transform(X_train) \n",
    "X_test_bow = count_vect.transform(X_test)"
   ]
  },
  {
   "cell_type": "code",
   "execution_count": 34,
   "metadata": {},
   "outputs": [],
   "source": [
    "X_train_bow = preprocessing.normalize(X_train_bow)\n",
    "X_test_bow = preprocessing.normalize(X_test_bow)"
   ]
  },
  {
   "attachments": {},
   "cell_type": "markdown",
   "metadata": {},
   "source": [
    "## Fine tuning "
   ]
  },
  {
   "cell_type": "code",
   "execution_count": 36,
   "metadata": {},
   "outputs": [
    {
     "name": "stdout",
     "output_type": "stream",
     "text": [
      "Best C and penalty {'penalty': 'l2', 'C': 10}\n",
      "precision on train data 75.58\n"
     ]
    }
   ],
   "source": [
    "tuned_parameters = { 'C': [10**-4, 10**-2, 10**-1, 10**0, 10**1, 10**2, 10**4],\n",
    "              'penalty':['l1','l2']}\n",
    "model_precision = RandomizedSearchCV(LogisticRegression(), tuned_parameters,\n",
    "                      scoring = \"f1\"\n",
    "                     )\n",
    "model_precision.fit(X_train_bow, Y_train)\n",
    "\n",
    "print(\"Best C and penalty\",model_precision.best_params_)\n",
    "print(\"precision on train data\",model_precision.best_score_*100)"
   ]
  },
  {
   "cell_type": "code",
   "execution_count": null,
   "metadata": {},
   "outputs": [],
   "source": []
  }
 ],
 "metadata": {
  "kernelspec": {
   "display_name": ".venv",
   "language": "python",
   "name": "python3"
  },
  "language_info": {
   "codemirror_mode": {
    "name": "ipython",
    "version": 3
   },
   "file_extension": ".py",
   "mimetype": "text/x-python",
   "name": "python",
   "nbconvert_exporter": "python",
   "pygments_lexer": "ipython3",
   "version": "3.9.6"
  },
  "orig_nbformat": 4,
  "vscode": {
   "interpreter": {
    "hash": "9883284e4809f9dc439720b7be050568a57fcaf846432ff7264a79bbda205b99"
   }
  }
 },
 "nbformat": 4,
 "nbformat_minor": 2
}
